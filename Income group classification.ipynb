{
 "cells": [
  {
   "cell_type": "markdown",
   "id": "431e40fe",
   "metadata": {},
   "source": [
    "<center><img src=\"https://images.unsplash.com/photo-1604594849809-dfedbc827105?crop=entropy&cs=tinysrgb&fm=jpg&ixlib=rb-1.2.1&q=80&raw_url=true&ixid=MnwxMjA3fDB8MHxwaG90by1wYWdlfHx8fGVufDB8fHx8&auto=format&fit=crop&w=870\" width=\"400\" height=\"400\"></center>\n",
    "\n",
    "\n",
    "<b><h2><center>Income Group Classification Case Study</center></h2></b>\n",
    "### Context\n",
    "\n",
    "DeltaSquare is an NGO that works with the government on matters of social policy to bring about a change in the lives of underprivileged sections of society. They are given a task of coming up with a policy framework using a dataset that the government received from WHO.\n",
    "\n",
    "### Objective\n",
    "\n",
    "You, as a Data Scientist at DeltaSquare, are tasked with analyzing the data provided to identify the different factors that influence the income of an individual, build a prediction model that can help the government formulate policies for the right pockets of the society, and share a proposal for the government.\n",
    "\n",
    "### Dataset\n",
    "\n",
    "The data contains characteristics of the people\n",
    "\n",
    "* age: continuous - age of a Person\n",
    "* workclass: Where does a person works - categorical - (Private, Self-emp-not-inc, Self-emp-inc, Federal-gov, Local-gov, State-gov, Without-pay, Never-worked, Unknown)\n",
    "* fnlwgt: continuous - Weight assigned by Current Population Survey (CPS) - People with similar demographic characteristics should have similar weights since it is a feature aimed to allocate similar weights to people with similar demographic characteristics.\n",
    "* education: Degree the person has - categorical - (Bachelors, Some-college, 11th, HS-grad, Prof-school, Assoc-acdm, Assoc-voc, 9th, 7th-8th, 12th, Masters, 1st-4th, 10th, Doctorate, 5th-6th, Preschool)\n",
    "* education-num: no. of years a person studied - continuous.\n",
    "* marital-status: categorical - (Married, Never-married, Not-married)\n",
    "* occupation: categorical - (Tech-support, Craft-repair, Other-service, Sales, Exec-managerial, Prof-specialty, Handlers-cleaners, Machine-op-inspct, Adm-clerical, Farming-fishing, Transport-moving, Priv-house-serv, Protective-serv, Armed-Forces, Unknown)\n",
    "* race: categorical - (White, Asian-Pac-Islander, Amer-Indian-Eskimo, Other, Black)\n",
    "* sex: categorical - (Female, Male)\n",
    "* capital-gain: Investment gain of the person other than salary - continuous\n",
    "* capital-loss: Loss from investments - continuous\n",
    "* hours-per-week: No. of hours a person works - continuous.\n",
    "* native-contienent: categorical - (North America, Asia, Other, Europe, South America)\n",
    "* salary: >50K, <=50K (dependent variable, the salary is in Dollars per year)"
   ]
  },
  {
   "cell_type": "code",
   "execution_count": null,
   "id": "ce4946b5",
   "metadata": {},
   "outputs": [],
   "source": []
  }
 ],
 "metadata": {
  "kernelspec": {
   "display_name": "Python 3 (ipykernel)",
   "language": "python",
   "name": "python3"
  },
  "language_info": {
   "codemirror_mode": {
    "name": "ipython",
    "version": 3
   },
   "file_extension": ".py",
   "mimetype": "text/x-python",
   "name": "python",
   "nbconvert_exporter": "python",
   "pygments_lexer": "ipython3",
   "version": "3.9.13"
  }
 },
 "nbformat": 4,
 "nbformat_minor": 5
}
